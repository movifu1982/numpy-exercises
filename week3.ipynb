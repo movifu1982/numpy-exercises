{
 "cells": [
  {
   "cell_type": "code",
   "execution_count": 31,
   "metadata": {},
   "outputs": [
    {
     "name": "stdout",
     "output_type": "stream",
     "text": [
      "6.881860213634101\n"
     ]
    }
   ],
   "source": [
    "#Exercise 1\n",
    "\n",
    "#a = 8, 12, 16, 24, 4\n",
    "\n",
    "#sum(a)\n",
    "#64/5\n",
    "\n",
    "\n",
    "first_array = np.array([8, 12, 16, 24, 4])\n",
    "print(np.std(first_array))"
   ]
  },
  {
   "cell_type": "code",
   "execution_count": 21,
   "metadata": {},
   "outputs": [
    {
     "data": {
      "text/plain": [
       "47.5"
      ]
     },
     "execution_count": 21,
     "metadata": {},
     "output_type": "execute_result"
    }
   ],
   "source": [
    " a = 9+12+17+20+13+10+6+5+3\n",
    " a /2\n",
    "\n"
   ]
  },
  {
   "cell_type": "code",
   "execution_count": null,
   "metadata": {},
   "outputs": [
    {
     "name": "stderr",
     "output_type": "stream",
     "text": [
      "/var/folders/6n/sf43sj591qd37_1r77rmw6v00000gn/T/ipykernel_990/760107865.py:3: VisibleDeprecationWarning: Creating an ndarray from ragged nested sequences (which is a list-or-tuple of lists-or-tuples-or ndarrays with different lengths or shapes) is deprecated. If you meant to do this, you must specify 'dtype=object' when creating the ndarray.\n",
      "  a = np.array([[10, 10, 10, 10, 11, 11, 12, 13, 14],\n"
     ]
    }
   ],
   "source": [
    "#exercise 4 conc, order, get middle value\n",
    "\n",
    "a = np.array([[10, 10, 10, 10, 11, 11, 12, 13, 14],\n",
    "[15, 15, 15, 16, 16, 16, 16, 16, 17, 18, 19, 19],\n",
    "[20, 20, 20, 21, 21, 21, 21, 21, 22, 22, 22, 23, 23, 23, 24, 24, 24],\n",
    "[26, 26, 26, 26, 26, 26, 26, 27, 27, 27, 27, 29, 29, 29, 29, 29, 29, 29, 29, 29],\n",
    "[30, 30, 30, 30, 30, 31, 31, 32, 32, 33, 33, 34, 34],\n",
    "[35, 35, 35, 37, 37, 37, 37, 39, 39, 39],\n",
    "[40, 40, 43, 43, 44, 44],\n",
    "[46, 46, 46, 47, 49],\n",
    "[52, 53, 54]])\n",
    "\n"
   ]
  },
  {
   "cell_type": "code",
   "execution_count": 29,
   "metadata": {},
   "outputs": [],
   "source": [
    "import numpy as np"
   ]
  },
  {
   "cell_type": "code",
   "execution_count": null,
   "metadata": {},
   "outputs": [
    {
     "name": "stdout",
     "output_type": "stream",
     "text": [
      "[1 2 3]\n"
     ]
    }
   ],
   "source": [
    "onedim_arr = np.array ([1,2,3])\n",
    "\n",
    "print (onedim_arr)"
   ]
  },
  {
   "cell_type": "code",
   "execution_count": null,
   "metadata": {},
   "outputs": [
    {
     "data": {
      "text/plain": [
       "1.5354859277737232"
      ]
     },
     "execution_count": 56,
     "metadata": {},
     "output_type": "execute_result"
    }
   ],
   "source": [
    "a = (46, 46, 46, 47, 49)\n",
    "arr.sum()\n"
   ]
  },
  {
   "cell_type": "code",
   "execution_count": null,
   "metadata": {},
   "outputs": [
    {
     "name": "stdout",
     "output_type": "stream",
     "text": [
      "46.8\n"
     ]
    }
   ],
   "source": [
    "# mean of (46, 46, 46, 47, 49) Change occurrs when one nr is removed!\n",
    "\n",
    "values = 46, 46, 46, 47, 49\n",
    "\n",
    "print(np.mean(values))"
   ]
  },
  {
   "cell_type": "code",
   "execution_count": null,
   "metadata": {},
   "outputs": [
    {
     "name": "stdout",
     "output_type": "stream",
     "text": [
      "46.0\n"
     ]
    }
   ],
   "source": [
    "# median of (46, 46, 46, 47, 49) There is no change when removing a nr!\n",
    "\n",
    "values = 46, 46, 46, 47, 49\n",
    "\n",
    "print(np.median(values))"
   ]
  },
  {
   "cell_type": "code",
   "execution_count": null,
   "metadata": {},
   "outputs": [
    {
     "name": "stdout",
     "output_type": "stream",
     "text": [
      "ModeResult(mode=array([46]), count=array([1]))\n"
     ]
    }
   ],
   "source": [
    "# mode of (46, 46, 47, 49) There is a change depending on what nr is removed! I think. \n",
    "\n",
    "values = 46, 47, 49\n",
    "\n",
    "print(stats.mode(values))"
   ]
  },
  {
   "cell_type": "code",
   "execution_count": null,
   "metadata": {},
   "outputs": [
    {
     "data": {
      "text/plain": [
       "1.5354859277737232"
      ]
     },
     "execution_count": 45,
     "metadata": {},
     "output_type": "execute_result"
    }
   ],
   "source": [
    "#random, just to check\n",
    "arr = np.random.randn(4,4)\n",
    "arr.sum()"
   ]
  },
  {
   "cell_type": "code",
   "execution_count": null,
   "metadata": {},
   "outputs": [],
   "source": [
    "from scipy import stats"
   ]
  },
  {
   "cell_type": "code",
   "execution_count": null,
   "metadata": {},
   "outputs": [],
   "source": [
    "#exercise 9 we need the mean first?\n",
    "#sal är 150, delat med emp (10) är 15 eur per timme.\n",
    "\n",
    "sal = ([[25, 40, 35, 50,], [3, 2, 1, 4]])\n",
    "\n",
    "\n"
   ]
  },
  {
   "cell_type": "code",
   "execution_count": 18,
   "metadata": {},
   "outputs": [
    {
     "ename": "NameError",
     "evalue": "name 'np' is not defined",
     "output_type": "error",
     "traceback": [
      "\u001b[0;31m---------------------------------------------------------------------------\u001b[0m",
      "\u001b[0;31mNameError\u001b[0m                                 Traceback (most recent call last)",
      "\u001b[1;32m/Users/monicavillarfuentes/codeacademy/numpy-exercises/week3.ipynb Cell 13\u001b[0m in \u001b[0;36m<cell line: 3>\u001b[0;34m()\u001b[0m\n\u001b[1;32m      <a href='vscode-notebook-cell:/Users/monicavillarfuentes/codeacademy/numpy-exercises/week3.ipynb#X15sZmlsZQ%3D%3D?line=0'>1</a>\u001b[0m \u001b[39m#exercise 9\u001b[39;00m\n\u001b[0;32m----> <a href='vscode-notebook-cell:/Users/monicavillarfuentes/codeacademy/numpy-exercises/week3.ipynb#X15sZmlsZQ%3D%3D?line=2'>3</a>\u001b[0m my_array \u001b[39m=\u001b[39m np\u001b[39m.\u001b[39marray([[\u001b[39m25\u001b[39m, \u001b[39m40\u001b[39m, \u001b[39m35\u001b[39m, \u001b[39m50\u001b[39m],\n\u001b[1;32m      <a href='vscode-notebook-cell:/Users/monicavillarfuentes/codeacademy/numpy-exercises/week3.ipynb#X15sZmlsZQ%3D%3D?line=3'>4</a>\u001b[0m                     [\u001b[39m3\u001b[39m, \u001b[39m2\u001b[39m, \u001b[39m1\u001b[39m, \u001b[39m4\u001b[39m]])\n\u001b[1;32m      <a href='vscode-notebook-cell:/Users/monicavillarfuentes/codeacademy/numpy-exercises/week3.ipynb#X15sZmlsZQ%3D%3D?line=4'>5</a>\u001b[0m \u001b[39mprint\u001b[39m(my_array)\n\u001b[1;32m      <a href='vscode-notebook-cell:/Users/monicavillarfuentes/codeacademy/numpy-exercises/week3.ipynb#X15sZmlsZQ%3D%3D?line=6'>7</a>\u001b[0m np\u001b[39m.\u001b[39mstd(my_array)\n",
      "\u001b[0;31mNameError\u001b[0m: name 'np' is not defined"
     ]
    }
   ],
   "source": [
    "#exercise 9\n",
    "\n",
    "my_array = np.array([[25, 40, 35, 50],\n",
    "                    [3, 2, 1, 4]])\n",
    "print(my_array)\n",
    "\n",
    "np.std(my_array)"
   ]
  },
  {
   "cell_type": "code",
   "execution_count": 19,
   "metadata": {},
   "outputs": [
    {
     "ename": "SyntaxError",
     "evalue": "unmatched ')' (3738007717.py, line 4)",
     "output_type": "error",
     "traceback": [
      "\u001b[0;36m  Input \u001b[0;32mIn [19]\u001b[0;36m\u001b[0m\n\u001b[0;31m    A) mu=5, sigma =1.5\u001b[0m\n\u001b[0m     ^\u001b[0m\n\u001b[0;31mSyntaxError\u001b[0m\u001b[0;31m:\u001b[0m unmatched ')'\n"
     ]
    }
   ],
   "source": [
    "#Exercise 11\n",
    "\n",
    "\n",
    "A) mu=5, sigma =1.5\n",
    "B) mu=10, sigma =1.0\n",
    "C) mu=5, sigma =1.65\n",
    "D) mu=8, sigma =1.2\n",
    "E) mu=10, sigma =1.6\n",
    "\n",
    "\n",
    "\n",
    "\n",
    "\n",
    "\n"
   ]
  }
 ],
 "metadata": {
  "kernelspec": {
   "display_name": "Python 3.9.12 ('base')",
   "language": "python",
   "name": "python3"
  },
  "language_info": {
   "codemirror_mode": {
    "name": "ipython",
    "version": 3
   },
   "file_extension": ".py",
   "mimetype": "text/x-python",
   "name": "python",
   "nbconvert_exporter": "python",
   "pygments_lexer": "ipython3",
   "version": "3.9.12"
  },
  "orig_nbformat": 4,
  "vscode": {
   "interpreter": {
    "hash": "53268d429fe8007277d58353424377c3c56a51408f44f169cee4649a7ccfd4de"
   }
  }
 },
 "nbformat": 4,
 "nbformat_minor": 2
}
